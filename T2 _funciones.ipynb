{
 "cells": [
  {
   "cell_type": "markdown",
   "metadata": {},
   "source": [
    "Tarea 2 Minería de Datos\n",
    "\n",
    "Tomás Cortés"
   ]
  },
  {
   "cell_type": "markdown",
   "metadata": {},
   "source": [
    "Para separar los datos de training y testing se utilizó un código pyton que se adjuntará donde se separa utilizando un método aleatoreo."
   ]
  },
  {
   "cell_type": "code",
   "execution_count": null,
   "metadata": {},
   "outputs": [],
   "source": []
  },
  {
   "cell_type": "code",
   "execution_count": null,
   "metadata": {},
   "outputs": [],
   "source": []
  },
  {
   "cell_type": "code",
   "execution_count": 2,
   "metadata": {
    "colab": {},
    "colab_type": "code",
    "id": "zfJllAUCypBw"
   },
   "outputs": [],
   "source": [
    "import numpy as np\n",
    "import pandas as pd\n",
    "from numpy import log2 as log"
   ]
  },
  {
   "cell_type": "code",
   "execution_count": 3,
   "metadata": {
    "colab": {},
    "colab_type": "code",
    "id": "knICTRtSllhw"
   },
   "outputs": [],
   "source": [
    "df = pd.read_csv(\"training.csv\")\n"
   ]
  },
  {
   "cell_type": "code",
   "execution_count": 31,
   "metadata": {},
   "outputs": [
    {
     "name": "stdout",
     "output_type": "stream",
     "text": [
      "Class\n",
      "['MIRA_SR' 'RRAB' 'CEP' 'RRC' 'DSCT_SXPHE' 'RRD' 'T2CEP' 'ACEP' 'ARRD']\n",
      "Freq1_harmonics_rel_phase_0\n",
      "[0.]\n",
      "Freq2_harmonics_rel_phase_0\n",
      "[0.]\n",
      "Freq3_harmonics_rel_phase_0\n",
      "[0.]\n"
     ]
    }
   ],
   "source": [
    "for i in df:\n",
    "    if len(df[i].unique()) < 20:\n",
    "        print(i)\n",
    "        print(df[i].unique())"
   ]
  },
  {
   "cell_type": "markdown",
   "metadata": {},
   "source": [
    "Dividimos los datos continuos segun su mediana, siendo 2 grupos de mayor a esta y menor o igual.\n",
    "Esto ya que da buenos resultados.\n",
    "\n",
    "para esto no consideramos el atributo Class\n",
    "y eliminamos las variables:\n",
    "\n",
    "Freq1_harmonics_rel_phase_0\n",
    "\n",
    "Freq2_harmonics_rel_phase_0\n",
    "\n",
    "Freq3_harmonics_rel_phase_0\n",
    "\n",
    "ya que todos sus valores son 0\n"
   ]
  },
  {
   "cell_type": "code",
   "execution_count": 4,
   "metadata": {},
   "outputs": [],
   "source": [
    "for i in range(1,4):\n",
    "    df = df.drop([f'Freq{i}_harmonics_rel_phase_0'], axis=1)"
   ]
  },
  {
   "cell_type": "code",
   "execution_count": 28,
   "metadata": {
    "scrolled": false
   },
   "outputs": [
    {
     "name": "stdout",
     "output_type": "stream",
     "text": [
      "Class\n",
      "['MIRA_SR' 'RRAB' 'CEP' 'RRC' 'DSCT_SXPHE' 'RRD' 'T2CEP' 'ACEP' 'ARRD']\n"
     ]
    }
   ],
   "source": [
    "for i in df:\n",
    "    if len(df[i].unique()) < 20:\n",
    "        print(i)\n",
    "        print(df[i].unique())"
   ]
  },
  {
   "cell_type": "code",
   "execution_count": null,
   "metadata": {},
   "outputs": [],
   "source": []
  },
  {
   "cell_type": "code",
   "execution_count": 5,
   "metadata": {
    "scrolled": true
   },
   "outputs": [],
   "source": [
    "for i in df:\n",
    "    if i != \"Class\":\n",
    "        mediana = df[i].median()\n",
    "        df[i] = df[i].apply(lambda x: f\"< {mediana}\" if int(x) <= mediana else f\">{mediana}\" )\n"
   ]
  },
  {
   "cell_type": "markdown",
   "metadata": {},
   "source": [
    "Todo esto lo incluimos en una función que se llamará \"carga_y_proesamiento\"\n"
   ]
  },
  {
   "cell_type": "code",
   "execution_count": 28,
   "metadata": {},
   "outputs": [],
   "source": [
    "def carga_y_procesamiento(link):\n",
    "    df = pd.read_csv(link)\n",
    "    for i in range(1,4):\n",
    "        df = df.drop([f'Freq{i}_harmonics_rel_phase_0'], axis=1)\n",
    "        \n",
    "    for i in df:\n",
    "        if i != \"Class\":\n",
    "            mediana = df[i].median()\n",
    "            df[i] = df[i].apply(lambda x: f\"< {mediana}\" if int(x) <= mediana else f\">{mediana}\" )\n",
    "    return df"
   ]
  },
  {
   "cell_type": "markdown",
   "metadata": {},
   "source": [
    "Funciones de entropía"
   ]
  },
  {
   "cell_type": "code",
   "execution_count": null,
   "metadata": {},
   "outputs": [],
   "source": [
    "def node_entropy(node):\n",
    "    #\n",
    "    \n",
    "    pass\n",
    "\n",
    "def variabe_entropy():\n",
    "    pass\n",
    "\n",
    "def variabe_entropy():\n",
    "    pass"
   ]
  },
  {
   "cell_type": "code",
   "execution_count": 18,
   "metadata": {},
   "outputs": [],
   "source": [
    "#Clases que se utilizarán\n",
    "\n",
    "#\n",
    "#YO NO HICE LA ACTIVIDAD, NO ESTOY REUTILIZANDO CODIGO\n",
    "#\n",
    "#\n",
    "class Nodo():\n",
    "    def __init__():\n",
    "        self.df = df\n",
    "        self.category = category\n",
    "        self.value = value\n",
    "        self.father = father\n",
    "        self.children = np.array()\n",
    "        \n",
    "    \n",
    "    def best_variable(self):\n",
    "        \"\"\"\n",
    "        Este metodo calcula la entropia de la base de datos y retorna la feature que\n",
    "        mejor separa los registos de las distintas clases\n",
    "        \"\"\"\n",
    "        \n",
    "        return \n",
    "       \n",
    "    \n",
    "    def split_data_base(self, feature):\n",
    "        \"\"\"\n",
    "        Este metodo recibe una feature y divide la base de datos en base a ella \n",
    "        generando los hijos del nodo.\n",
    "        \"\"\"\n",
    "        return None \n",
    "\n",
    "\n",
    "class Arbol():\n",
    "    pass\n",
    "\n",
    "class Bosque():\n",
    "    pass"
   ]
  },
  {
   "cell_type": "code",
   "execution_count": 8,
   "metadata": {},
   "outputs": [],
   "source": []
  },
  {
   "cell_type": "code",
   "execution_count": 9,
   "metadata": {},
   "outputs": [],
   "source": [
    "def crear_arbol():\n",
    "    pass\n",
    "\n",
    "def poblar_bosque():\n",
    "    pass"
   ]
  },
  {
   "cell_type": "code",
   "execution_count": 10,
   "metadata": {},
   "outputs": [],
   "source": [
    "def data_train():\n",
    "    pass"
   ]
  },
  {
   "cell_type": "code",
   "execution_count": 13,
   "metadata": {},
   "outputs": [],
   "source": [
    "def fit(data, target, n_estimators=800, max_depth=20, min_samples_split=30):\n",
    "    #toma los datos preprocesados y crea\n",
    "    #los arboles de decisión correspondientes\n",
    "    pass"
   ]
  },
  {
   "cell_type": "code",
   "execution_count": null,
   "metadata": {},
   "outputs": [],
   "source": []
  },
  {
   "cell_type": "code",
   "execution_count": 14,
   "metadata": {},
   "outputs": [],
   "source": [
    "def predict(data):\n",
    "    pass"
   ]
  },
  {
   "cell_type": "markdown",
   "metadata": {},
   "source": [
    "Luego para ejecutar las funciones tenemos:"
   ]
  },
  {
   "cell_type": "code",
   "execution_count": 1,
   "metadata": {},
   "outputs": [
    {
     "ename": "NameError",
     "evalue": "name 'carga_y_proesamiento' is not defined",
     "output_type": "error",
     "traceback": [
      "\u001b[0;31m---------------------------------------------------------------------------\u001b[0m",
      "\u001b[0;31mNameError\u001b[0m                                 Traceback (most recent call last)",
      "\u001b[0;32m<ipython-input-1-b72cb2da0b28>\u001b[0m in \u001b[0;36m<module>\u001b[0;34m\u001b[0m\n\u001b[1;32m      1\u001b[0m \u001b[0;32mfrom\u001b[0m \u001b[0mtqdm\u001b[0m \u001b[0;32mimport\u001b[0m \u001b[0mtqdm\u001b[0m\u001b[0;34m\u001b[0m\u001b[0;34m\u001b[0m\u001b[0m\n\u001b[1;32m      2\u001b[0m \u001b[0mtarget\u001b[0m \u001b[0;34m=\u001b[0m \u001b[0;34m\"Class\"\u001b[0m\u001b[0;34m\u001b[0m\u001b[0;34m\u001b[0m\u001b[0m\n\u001b[0;32m----> 3\u001b[0;31m \u001b[0mdata\u001b[0m \u001b[0;34m=\u001b[0m \u001b[0mcarga_y_proesamiento\u001b[0m\u001b[0;34m(\u001b[0m\u001b[0;34m\"training.csv\"\u001b[0m\u001b[0;34m)\u001b[0m\u001b[0;34m\u001b[0m\u001b[0;34m\u001b[0m\u001b[0m\n\u001b[0m\u001b[1;32m      4\u001b[0m \u001b[0mn_estimators\u001b[0m \u001b[0;34m=\u001b[0m \u001b[0;36m700\u001b[0m\u001b[0;34m\u001b[0m\u001b[0;34m\u001b[0m\u001b[0m\n\u001b[1;32m      5\u001b[0m \u001b[0mmax_depth\u001b[0m \u001b[0;34m=\u001b[0m \u001b[0;36m40\u001b[0m\u001b[0;34m\u001b[0m\u001b[0;34m\u001b[0m\u001b[0m\n",
      "\u001b[0;31mNameError\u001b[0m: name 'carga_y_proesamiento' is not defined"
     ]
    }
   ],
   "source": [
    "from tqdm import tqdm\n",
    "target = \"Class\"\n",
    "data = carga_y_proesamiento(\"training.csv\")\n",
    "n_estimators = 700\n",
    "max_depth = 40\n",
    "min_sample_split = 40\n",
    "max_features = 20\n",
    "bootstrap = True"
   ]
  },
  {
   "cell_type": "code",
   "execution_count": null,
   "metadata": {},
   "outputs": [],
   "source": []
  }
 ],
 "metadata": {
  "colab": {
   "collapsed_sections": [],
   "name": "Untitled1.ipynb",
   "provenance": []
  },
  "kernelspec": {
   "display_name": "Python 3",
   "language": "python",
   "name": "python3"
  },
  "language_info": {
   "codemirror_mode": {
    "name": "ipython",
    "version": 3
   },
   "file_extension": ".py",
   "mimetype": "text/x-python",
   "name": "python",
   "nbconvert_exporter": "python",
   "pygments_lexer": "ipython3",
   "version": "3.6.8"
  }
 },
 "nbformat": 4,
 "nbformat_minor": 1
}
